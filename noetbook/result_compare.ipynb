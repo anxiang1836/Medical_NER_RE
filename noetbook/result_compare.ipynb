{
 "cells": [
  {
   "cell_type": "markdown",
   "metadata": {},
   "source": [
    "# 模型结果比较"
   ]
  },
  {
   "cell_type": "code",
   "execution_count": 6,
   "metadata": {},
   "outputs": [
    {
     "name": "stdout",
     "output_type": "stream",
     "text": [
      "The autotime extension is already loaded. To reload it, use:\n",
      "  %reload_ext autotime\n",
      "time: 5.09 s\n"
     ]
    }
   ],
   "source": [
    "# 输出每个cell的运行时间\n",
    "%load_ext autotime\n",
    "# https://github.com/cpcloud/ipython-autotime\n",
    "import sys\n",
    "import pickle\n",
    "import keras\n",
    "import keras_contrib\n",
    "import numpy as np\n",
    "\n",
    "import warnings\n",
    "warnings.filterwarnings(\"ignore\")\n",
    "\n",
    "sys.path.append('../')\n",
    "\n",
    "word2idx = pickle.load(open('../saved_model_files/word2idx.pkl','rb'))\n",
    "emb_matrix = pickle.load(open('../saved_model_files/emb_matrix.pkl','rb'))\n",
    "\n",
    "# model_name = \"bi_lstm_crf_4_3_2_39.h5\"\n",
    "model_name = \"bi_lstm_crf_12_3_0_42.h5\"\n",
    "model = keras.models.load_model(\"../saved_model_files/\" + model_name,\n",
    "                                custom_objects={\"CRF\": keras_contrib.layers.CRF, \"crf_loss\": keras_contrib.losses.crf_loss,\n",
    "                                                \"crf_viterbi_accuracy\": keras_contrib.metrics.crf_viterbi_accuracy})"
   ]
  },
  {
   "cell_type": "code",
   "execution_count": 7,
   "metadata": {},
   "outputs": [
    {
     "name": "stdout",
     "output_type": "stream",
     "text": [
      "【严格相交】F1:0.7300  P:0.7200  R:0.7403\n",
      "time: 19.6 s\n"
     ]
    }
   ],
   "source": [
    "from preprocess import DataProcessor\n",
    "from evaluate import merge_preds4ner,f1_score4ner\n",
    "\n",
    "WINDOW_SIZE = 70\n",
    "EXPEND_SIZE = 10\n",
    "BATCH_SIZE = 64\n",
    "\n",
    "testset = pickle.load(open('../saved_model_files/testset.pkl', 'rb'))\n",
    "testprocessor = DataProcessor(testset).data4NER(window=WINDOW_SIZE, pad=EXPEND_SIZE)\n",
    "test_X, _ = testprocessor.get_ner_data()\n",
    "\n",
    "preds = model.predict(test_X, batch_size=BATCH_SIZE, verbose=2)\n",
    "\n",
    "pre_docs = merge_preds4ner(testset, testprocessor, preds)\n",
    "source_docs = testset.docs\n",
    "\n",
    "f1, prediction, recall, _ = f1_score4ner(pre_docs, source_docs, 'all')\n",
    "print(\"【严格相交】F1:{:.4f}  P:{:.4f}  R:{:.4f}\".format(f1, prediction, recall))"
   ]
  },
  {
   "cell_type": "markdown",
   "metadata": {},
   "source": [
    "## 参数不同时的结果对比\n",
    "\n",
    "- bilstm-crf：[128,128]\n",
    "\n",
    "    【严格相交】F1:0.7346  P:0.7150  R:0.7553\n",
    "\n",
    "- bilstm-crf：[256]\n",
    "\n",
    "    【严格相交】F1:0.7300  P:0.7200  R:0.7403"
   ]
  }
 ],
 "metadata": {
  "kernelspec": {
   "display_name": "Python 3",
   "language": "python",
   "name": "python3"
  },
  "language_info": {
   "codemirror_mode": {
    "name": "ipython",
    "version": 3
   },
   "file_extension": ".py",
   "mimetype": "text/x-python",
   "name": "python",
   "nbconvert_exporter": "python",
   "pygments_lexer": "ipython3",
   "version": "3.6.9"
  }
 },
 "nbformat": 4,
 "nbformat_minor": 4
}
