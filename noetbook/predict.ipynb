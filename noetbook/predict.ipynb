{
 "cells": [
  {
   "cell_type": "code",
   "execution_count": 147,
   "metadata": {},
   "outputs": [],
   "source": [
    "# 输出每个cell的运行时间\n",
    "%load_ext autotime\n",
    "# https://github.com/cpcloud/ipython-autotime\n",
    "import warnings\n",
    "warnings.filterwarnings(\"ignore\")"
   ]
  },
  {
   "cell_type": "code",
   "execution_count": 148,
   "metadata": {},
   "outputs": [
    {
     "name": "stdout",
     "output_type": "stream",
     "text": [
      "time: 11.8 s\n"
     ]
    }
   ],
   "source": [
    "import pickle\n",
    "import keras\n",
    "import keras_contrib\n",
    "import pickle\n",
    "import numpy as np\n",
    "\n",
    "model_dic = \"test_data_model\"\n",
    "word2idx = pickle.load(open('test_data_model/word2idx.pkl','rb'))\n",
    "emb_matrix = pickle.load(open('test_data_model/emb_matrix.pkl','rb'))\n",
    "model = keras.models.load_model(\"model_file/bi_lstm_crf_12_3_0_42.h5\",\n",
    "                                custom_objects={\"CRF\": keras_contrib.layers.CRF, \"crf_loss\": keras_contrib.losses.crf_loss,\n",
    "                                                \"crf_viterbi_accuracy\": keras_contrib.metrics.crf_viterbi_accuracy})\n",
    "BATCH_SIZE = 16\n",
    "MAX_LEN = 70\n",
    "PAD_LEN = 10\n",
    "\n",
    "def prepare(sent):\n",
    "    # Step1--滑动窗切分句子:\n",
    "    #        上一个句子的pad_len + 当前窗 + 下一个句子的pad_len\n",
    "    sent = [c for c in sent]\n",
    "    if len(sent)//MAX_LEN < 1:\n",
    "        sent = [PAD_LEN*[\"_padding\"] + sent + (MAX_LEN - len(sent) + PAD_LEN)*[\"_padding\"]]\n",
    "    else:\n",
    "        cut = []\n",
    "        for i in range(int(len(sent)//MAX_LEN)+1):\n",
    "            cur_sent = sent[i*MAX_LEN : (i+1)*MAX_LEN]\n",
    "            if i == 0:\n",
    "                # 开始\n",
    "                cur_sent = PAD_LEN*[\"_padding\"] + cur_sent + sent[(i+1)*MAX_LEN:(i+1)*MAX_LEN + PAD_LEN]\n",
    "            elif i == int(len(sent)//MAX_LEN):\n",
    "                # 结束\n",
    "                if len(cur_sent) > 0:\n",
    "                    cur_sent = sent[i*MAX_LEN - PAD_LEN : i*MAX_LEN]  + cur_sent + (MAX_LEN - len(cur_sent) + PAD_LEN)*[\"_padding\"]\n",
    "                else:\n",
    "                    break\n",
    "            else:\n",
    "                # 中间\n",
    "                cur_sent = sent[i*MAX_LEN - PAD_LEN : i*MAX_LEN] + cur_sent + sent[(i+1)*MAX_LEN:(i+1)*MAX_LEN + PAD_LEN]\n",
    "                if len(cur_sent) < MAX_LEN + 2*PAD_LEN:\n",
    "                    cur_sent = cur_sent + (MAX_LEN + 2*PAD_LEN - len(cur_sent))*[\"_padding\"]\n",
    "            cut.append(cur_sent)\n",
    "        sent = cut\n",
    "    \n",
    "    # Step2--sent2idx:\n",
    "    #        上一个句子的pad_len + 当前窗 + 下一个句子的pad_len\n",
    "    for idx,s in enumerate(sent):\n",
    "        num_list = []\n",
    "        for c in s:\n",
    "            if word2idx.get(c) != None:\n",
    "                num_list.append(word2idx.get(str(c)))\n",
    "            elif word2idx.get(c) == None:\n",
    "                 num_list.append(word2idx.get(\"_unk\"))\n",
    "        sent[idx] = num_list\n",
    "    return np.array(sent)\n",
    "\n",
    "def predict(sent2idx):\n",
    "    return model.predict(sent2idx, batch_size=BATCH_SIZE, verbose=True)"
   ]
  },
  {
   "cell_type": "code",
   "execution_count": 210,
   "metadata": {},
   "outputs": [
    {
     "data": {
      "text/plain": [
       "133"
      ]
     },
     "execution_count": 210,
     "metadata": {},
     "output_type": "execute_result"
    },
    {
     "name": "stdout",
     "output_type": "stream",
     "text": [
      "time: 3 ms\n"
     ]
    }
   ],
   "source": [
    "sent = \"\"\"\n",
    "糖尿病下肢动脉病变多数情况下是全身动脉病变的一部\n",
    "分,控制动脉硬化的多重危险因素是防治介入治疗后再狭窄的\n",
    "基础。 糖尿病膝下动脉较膝上动脉更易于发生再狭窄,介入手\n",
    "术时血管病变越严重,术后再狭窄风险越高,长期糖尿病代谢\n",
    "异常和 Fg 升高可能是导致再狭窄的原因。\n",
    "\"\"\"\n",
    "len(sent)"
   ]
  },
  {
   "cell_type": "code",
   "execution_count": 143,
   "metadata": {},
   "outputs": [
    {
     "name": "stdout",
     "output_type": "stream",
     "text": [
      "[   0    0    0    0    0    0    0    0    0    0    3   27   50   33\n",
      "  170  726  163  264   33  175  167  160  361  412  170  108  272  396\n",
      "  163  264   33  175   14   95  354    3   57    4  275  121  163  264\n",
      "  536  100   14  167   98  350  212   88   46  108  507  109  589  291\n",
      "  109  106  111  682 1000  989   14    3  130  467   21    2   27   50\n",
      "   33 1518  170  163  264  165 1518  150  163  264  324  684   99   69\n",
      "   85  682 1000  989    4  589]\n",
      "[  33 1518  170  163  264  165 1518  150  163  264  324  684   99   69\n",
      "   85  682 1000  989    4  589  291  504    3  331  141   37  153   33\n",
      "  175  654  454   98    4  331  111  682 1000  989  256  212  654   73\n",
      "    4  269  145   27   50   33  168  197    3  176  123   58    2   84\n",
      "   36    2  233   73   93   87  108  232  259  682 1000  989   14  336\n",
      "   88   21    3    0    0    0    0    0    0    0    0    0    0    0\n",
      "    0    0    0    0    0    0]\n"
     ]
    }
   ],
   "source": [
    "sent_pre = prepare(sent)\n",
    "for s in sent_pre:\n",
    "    print(s)"
   ]
  },
  {
   "cell_type": "code",
   "execution_count": 144,
   "metadata": {},
   "outputs": [
    {
     "name": "stdout",
     "output_type": "stream",
     "text": [
      "2/2 [==============================] - 2s 798ms/step\n"
     ]
    }
   ],
   "source": [
    "result = predict(prepare(sent))"
   ]
  },
  {
   "cell_type": "code",
   "execution_count": 151,
   "metadata": {},
   "outputs": [
    {
     "data": {
      "text/plain": [
       "16"
      ]
     },
     "execution_count": 151,
     "metadata": {},
     "output_type": "execute_result"
    },
    {
     "name": "stdout",
     "output_type": "stream",
     "text": [
      "time: 3 ms\n"
     ]
    }
   ],
   "source": [
    "len(result[0][0])"
   ]
  },
  {
   "cell_type": "code",
   "execution_count": 216,
   "metadata": {},
   "outputs": [
    {
     "data": {
      "text/plain": [
       "133"
      ]
     },
     "execution_count": 216,
     "metadata": {},
     "output_type": "execute_result"
    },
    {
     "name": "stdout",
     "output_type": "stream",
     "text": [
      "time: 3 ms\n"
     ]
    }
   ],
   "source": [
    "merge_result = []\n",
    "for r,s in zip(result,sent_pre):\n",
    "    r = r[10:-10].tolist()\n",
    "    s = s[10:-10].tolist()\n",
    "    r_not_pad = []\n",
    "    for idx,each in enumerate(s):\n",
    "        if each != 0:\n",
    "            r_not_pad.append(r[idx])\n",
    "    merge_result += r_not_pad\n",
    "len(merge_result)"
   ]
  },
  {
   "cell_type": "code",
   "execution_count": 212,
   "metadata": {},
   "outputs": [
    {
     "data": {
      "text/plain": [
       "[1, 3, 4]"
      ]
     },
     "execution_count": 212,
     "metadata": {},
     "output_type": "execute_result"
    },
    {
     "name": "stdout",
     "output_type": "stream",
     "text": [
      "time: 2 ms\n"
     ]
    }
   ],
   "source": [
    "a = [1,2,3,4]\n",
    "a.pop(1)\n",
    "a"
   ]
  },
  {
   "cell_type": "code",
   "execution_count": 204,
   "metadata": {},
   "outputs": [
    {
     "data": {
      "text/plain": [
       "153"
      ]
     },
     "execution_count": 204,
     "metadata": {},
     "output_type": "execute_result"
    },
    {
     "name": "stdout",
     "output_type": "stream",
     "text": [
      "time: 2.02 ms\n"
     ]
    }
   ],
   "source": [
    "len(merge_result)"
   ]
  },
  {
   "cell_type": "code",
   "execution_count": 253,
   "metadata": {},
   "outputs": [
    {
     "name": "stdout",
     "output_type": "stream",
     "text": [
      "time: 4 ms\n"
     ]
    }
   ],
   "source": [
    "def decode_result(result):\n",
    "    CATEGORY = [\n",
    "    \"Amount\",  # 用药剂量\n",
    "    \"Anatomy\",  # 部位\n",
    "    \"Disease\",  # 疾病名称\n",
    "    \"Drug\",  # 药品名称\n",
    "    \"Duration\",  # 持续时间\n",
    "    \"Frequency\",  # 用药频率\n",
    "    \"Level\",  # 程度\n",
    "    \"Method\",  # 用药方法\n",
    "    \"Operation\",  # 手术\n",
    "    \"Reason\",  # 病因\n",
    "    \"SideEff\",  # 不良反应\n",
    "    \"Symptom\",  # 临床表现\n",
    "    \"Test\",  # 检查方法\n",
    "    \"Test_Value\",  # 检查指标值\n",
    "    \"Treatment\"  # 非药方法\n",
    "    ]\n",
    "    # step1: 去除padding\n",
    "    merge_result = []\n",
    "    for r,s in zip(result,sent_pre):\n",
    "        r = r[10:-10].tolist()\n",
    "        s = s[10:-10].tolist()\n",
    "        r_not_pad = []\n",
    "        for idx,each in enumerate(s):\n",
    "            if each != 0:\n",
    "                r_not_pad.append(r[idx])\n",
    "        merge_result += r_not_pad\n",
    "    \n",
    "    # step2：取出最大值\n",
    "    label_result = []\n",
    "    for label_vec in merge_result:\n",
    "        label_idx = np.argmax(label_vec)\n",
    "        label_result.append(label_idx)\n",
    "    # return label_result\n",
    "    \n",
    "    # Step3：得到标注结果\n",
    "    cate_flag = 0\n",
    "    start = -1\n",
    "    end = -1\n",
    "    ner_result = []\n",
    "    for idx,cate in enumerate(label_result):\n",
    "        if cate == 0 and cate_flag != 0:\n",
    "            ner_result.append((CATEGORY[cate_flag - 1],start,end + 1,sent[start:end+1]))\n",
    "            start,end = idx,idx\n",
    "            cate_flag = cate\n",
    "        if cate != 0:\n",
    "            if cate_flag == 0: # 某一个词的开始\n",
    "                start,end = idx,idx\n",
    "                cate_flag = cate\n",
    "            elif cate_flag != 0 and cate == cate_flag: # 在某一个词的中间\n",
    "                end = idx\n",
    "            elif cate_flag != 0 and cate != cate_flag: # 已经是另外一个词\n",
    "                ner_result.append((CATEGORY[cate_flag - 1],start,end + 1,sent[start:end+1]))\n",
    "                start,end = idx,idx\n",
    "                cate_flag = cate\n",
    "    return label_result,ner_result\n",
    "\n"
   ]
  },
  {
   "cell_type": "code",
   "execution_count": 254,
   "metadata": {},
   "outputs": [
    {
     "name": "stdout",
     "output_type": "stream",
     "text": [
      "time: 2 ms\n"
     ]
    }
   ],
   "source": [
    "label,ner = decode_result(result)"
   ]
  },
  {
   "cell_type": "code",
   "execution_count": 256,
   "metadata": {},
   "outputs": [
    {
     "name": "stdout",
     "output_type": "stream",
     "text": [
      "[0, 3, 3, 3, 3, 3, 3, 3, 3, 3, 0, 0, 0, 0, 0, 0, 3, 3, 3, 3, 3, 3, 0, 0, 0, 0, 0, 0, 0, 0, 3, 3, 3, 3, 0, 0, 0, 0, 0, 0, 0, 0, 0, 0, 0, 0, 0, 0, 0, 3, 3, 3, 0, 0, 0, 0, 0, 0, 3, 3, 3, 0, 2, 2, 2, 2, 2, 2, 2, 2, 0, 0, 0, 0, 0, 3, 3, 3, 0, 9, 9, 9, 9, 9, 0, 3, 3, 3, 3, 0, 0, 0, 0, 0, 0, 3, 3, 3, 0, 0, 0, 0, 0, 10, 10, 10, 10, 10, 10, 10, 10, 10, 10, 0, 0, 10, 10, 10, 10, 10, 0, 0, 0, 0, 0, 3, 3, 3, 0, 0, 0, 0, 0]\n",
      "time: 1 ms\n"
     ]
    }
   ],
   "source": [
    "print(label)"
   ]
  },
  {
   "cell_type": "code",
   "execution_count": 258,
   "metadata": {},
   "outputs": [
    {
     "name": "stdout",
     "output_type": "stream",
     "text": [
      "\n",
      "糖尿病下肢动脉病变多数情况下是全身动脉病变的一部\n",
      "分,控制动脉硬化的多重危险因素是防治介入治疗后再狭窄的\n",
      "基础。 糖尿病膝下动脉较膝上动脉更易于发生再狭窄,介入手\n",
      "术时血管病变越严重,术后再狭窄风险越高,长期糖尿病代谢\n",
      "异常和 Fg 升高可能是导致再狭窄的原因。\n",
      "\n",
      "time: 2 ms\n"
     ]
    }
   ],
   "source": [
    "print(sent)"
   ]
  },
  {
   "cell_type": "code",
   "execution_count": 257,
   "metadata": {},
   "outputs": [
    {
     "data": {
      "text/plain": [
       "[('Disease', 1, 10, '糖尿病下肢动脉病变'),\n",
       " ('Disease', 16, 22, '全身动脉病变'),\n",
       " ('Disease', 30, 34, '动脉硬化'),\n",
       " ('Disease', 49, 52, '再狭窄'),\n",
       " ('Disease', 58, 61, '糖尿病'),\n",
       " ('Anatomy', 62, 70, '下动脉较膝上动脉'),\n",
       " ('Disease', 75, 78, '再狭窄'),\n",
       " ('Operation', 79, 84, '介入手\\n术'),\n",
       " ('Disease', 85, 89, '血管病变'),\n",
       " ('Disease', 95, 98, '再狭窄'),\n",
       " ('Reason', 103, 113, '长期糖尿病代谢\\n异常'),\n",
       " ('Reason', 115, 120, 'Fg 升高'),\n",
       " ('Disease', 125, 128, '再狭窄')]"
      ]
     },
     "execution_count": 257,
     "metadata": {},
     "output_type": "execute_result"
    },
    {
     "name": "stdout",
     "output_type": "stream",
     "text": [
      "time: 3 ms\n"
     ]
    }
   ],
   "source": [
    "ner"
   ]
  }
 ],
 "metadata": {
  "kernelspec": {
   "display_name": "Python 3",
   "language": "python",
   "name": "python3"
  },
  "language_info": {
   "codemirror_mode": {
    "name": "ipython",
    "version": 3
   },
   "file_extension": ".py",
   "mimetype": "text/x-python",
   "name": "python",
   "nbconvert_exporter": "python",
   "pygments_lexer": "ipython3",
   "version": "3.6.9"
  }
 },
 "nbformat": 4,
 "nbformat_minor": 4
}
