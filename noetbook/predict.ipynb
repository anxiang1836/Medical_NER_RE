{
 "cells": [
  {
   "cell_type": "markdown",
   "metadata": {},
   "source": [
    "# 由训练模型进行单句预测"
   ]
  },
  {
   "cell_type": "code",
   "execution_count": 1,
   "metadata": {},
   "outputs": [],
   "source": [
    "# 输出每个cell的运行时间\n",
    "%load_ext autotime\n",
    "# https://github.com/cpcloud/ipython-autotime\n",
    "import sys\n",
    "import warnings\n",
    "warnings.filterwarnings(\"ignore\")\n",
    "sys.path.append('../')"
   ]
  },
  {
   "cell_type": "code",
   "execution_count": 2,
   "metadata": {},
   "outputs": [
    {
     "name": "stderr",
     "output_type": "stream",
     "text": [
      "Using TensorFlow backend.\n"
     ]
    },
    {
     "name": "stdout",
     "output_type": "stream",
     "text": [
      "WARNING:tensorflow:From d:\\anaconda3\\envs\\tf14_py36\\lib\\site-packages\\tensorflow\\python\\ops\\math_ops.py:2403: add_dispatch_support.<locals>.wrapper (from tensorflow.python.ops.array_ops) is deprecated and will be removed in a future version.\n",
      "Instructions for updating:\n",
      "Use tf.where in 2.0, which has the same broadcast rule as np.where\n",
      "WARNING:tensorflow:From d:\\anaconda3\\envs\\tf14_py36\\lib\\site-packages\\keras\\backend\\tensorflow_backend.py:422: The name tf.global_variables is deprecated. Please use tf.compat.v1.global_variables instead.\n",
      "\n",
      "time: 9.91 s\n"
     ]
    }
   ],
   "source": [
    "# 加载模型\n",
    "from evaluate import prepare,predict,decode_result"
   ]
  },
  {
   "cell_type": "code",
   "execution_count": 3,
   "metadata": {},
   "outputs": [
    {
     "name": "stdout",
     "output_type": "stream",
     "text": [
      "2/2 [==============================] - 1s 470ms/step\n",
      "\n",
      "糖尿病下肢动脉病变多数情况下是全身动脉病变的一部\n",
      "分,控制动脉硬化的多重危险因素是防治介入治疗后再狭窄的\n",
      "基础。 糖尿病膝下动脉较膝上动脉更易于发生再狭窄,介入手\n",
      "术时血管病变越严重,术后再狭窄风险越高,长期糖尿病代谢\n",
      "异常和 Fg 升高可能是导致再狭窄的原因。\n",
      "\n",
      "('Disease', 1, 10, '糖尿病下肢动脉病变')\n",
      "('Disease', 16, 22, '全身动脉病变')\n",
      "('Disease', 30, 34, '动脉硬化')\n",
      "('Operation', 44, 48, '介入治疗')\n",
      "('Disease', 49, 52, '再狭窄')\n",
      "('Disease', 58, 61, '糖尿病')\n",
      "('Anatomy', 62, 65, '下动脉')\n",
      "('Anatomy', 66, 70, '膝上动脉')\n",
      "('Disease', 75, 78, '再狭窄')\n",
      "('Operation', 79, 84, '介入手\\n术')\n",
      "('Disease', 85, 89, '血管病变')\n",
      "('Disease', 95, 98, '再狭窄')\n",
      "('Disease', 105, 113, '糖尿病代谢\\n异常')\n",
      "('Reason', 115, 120, 'Fg 升高')\n",
      "('Disease', 125, 128, '再狭窄')\n",
      "time: 951 ms\n"
     ]
    }
   ],
   "source": [
    "# 预测并解析\n",
    "sent = \"\"\"\n",
    "糖尿病下肢动脉病变多数情况下是全身动脉病变的一部\n",
    "分,控制动脉硬化的多重危险因素是防治介入治疗后再狭窄的\n",
    "基础。 糖尿病膝下动脉较膝上动脉更易于发生再狭窄,介入手\n",
    "术时血管病变越严重,术后再狭窄风险越高,长期糖尿病代谢\n",
    "异常和 Fg 升高可能是导致再狭窄的原因。\n",
    "\"\"\"\n",
    "\n",
    "prepared_sent = prepare(sent)\n",
    "result = predict(prepared_sent)\n",
    "\n",
    "label,ner = decode_result(result,prepared_sent,sent)\n",
    "print(sent)\n",
    "for n in ner:\n",
    "    print(n)"
   ]
  }
 ],
 "metadata": {
  "kernelspec": {
   "display_name": "Python 3",
   "language": "python",
   "name": "python3"
  },
  "language_info": {
   "codemirror_mode": {
    "name": "ipython",
    "version": 3
   },
   "file_extension": ".py",
   "mimetype": "text/x-python",
   "name": "python",
   "nbconvert_exporter": "python",
   "pygments_lexer": "ipython3",
   "version": "3.6.9"
  }
 },
 "nbformat": 4,
 "nbformat_minor": 4
}
