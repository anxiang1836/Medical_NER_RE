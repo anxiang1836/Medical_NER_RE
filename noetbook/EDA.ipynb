{
 "cells": [
  {
   "cell_type": "markdown",
   "metadata": {},
   "source": [
    "# EDA数据分析"
   ]
  },
  {
   "cell_type": "code",
   "execution_count": 36,
   "metadata": {},
   "outputs": [
    {
     "name": "stdout",
     "output_type": "stream",
     "text": [
      "The autotime extension is already loaded. To reload it, use:\n",
      "  %reload_ext autotime\n",
      "time: 2.11 s\n"
     ]
    }
   ],
   "source": [
    "# 输出每个cell的运行时间\n",
    "%load_ext autotime\n",
    "# https://github.com/cpcloud/ipython-autotime\n",
    "import sys\n",
    "import warnings\n",
    "import numpy as np\n",
    "import matplotlib.pyplot as plt\n",
    "import seaborn as sns\n",
    "warnings.filterwarnings(\"ignore\")\n",
    "\n",
    "sys.path.append('../')\n",
    "\n",
    "from utils import scan_files,load_file\n",
    "\n",
    "root_path = \"../data/round1/train/\""
   ]
  },
  {
   "cell_type": "markdown",
   "metadata": {},
   "source": [
    "## 文章基本数据统计"
   ]
  },
  {
   "cell_type": "markdown",
   "metadata": {},
   "source": [
    "### 篇章个数统计"
   ]
  },
  {
   "cell_type": "code",
   "execution_count": 18,
   "metadata": {},
   "outputs": [
    {
     "name": "stdout",
     "output_type": "stream",
     "text": [
      "共计有文章：363篇\n",
      "time: 4 ms\n"
     ]
    }
   ],
   "source": [
    "file_names = scan_files(root_path)\n",
    "print(\"共计有文章：{}篇\".format(len(file_names)))"
   ]
  },
  {
   "cell_type": "markdown",
   "metadata": {},
   "source": [
    "### 篇章长度统计"
   ]
  },
  {
   "cell_type": "code",
   "execution_count": 39,
   "metadata": {},
   "outputs": [
    {
     "name": "stdout",
     "output_type": "stream",
     "text": [
      "最大值：21504\n",
      "最小值：600\n",
      "平均值：8831.338842975207\n",
      "中位数:8344.0\n"
     ]
    },
    {
     "data": {
      "text/plain": [
       "<matplotlib.axes._subplots.AxesSubplot at 0x16e0953fd68>"
      ]
     },
     "execution_count": 39,
     "metadata": {},
     "output_type": "execute_result"
    },
    {
     "data": {
      "image/png": "[encoded data removed]",
      "text/plain": [
       "<Figure size 432x288 with 1 Axes>"
      ]
     },
     "metadata": {
      "needs_background": "light"
     },
     "output_type": "display_data"
    },
    {
     "name": "stdout",
     "output_type": "stream",
     "text": [
      "time: 440 ms\n"
     ]
    }
   ],
   "source": [
    "file_data = []\n",
    "for name in file_names:\n",
    "    file_data.append(load_file(root_path,name))\n",
    "file_data_len = [len(x) for x in file_data]\n",
    "print(\"最大值：{}\\n最小值：{}\\n平均值：{}\\n中位数:{}\".format(np.max(file_data_len),np.min(file_data_len),np.mean(file_data_len),np.median(file_data_len)))\n",
    "sns.distplot(file_data_len,kde=False)"
   ]
  },
  {
   "cell_type": "code",
   "execution_count": 40,
   "metadata": {},
   "outputs": [
    {
     "name": "stdout",
     "output_type": "stream",
     "text": [
      "time: 1.46 s\n"
     ]
    }
   ],
   "source": [
    "from preprocess import DataSet\n",
    "dataset = DataSet(root_path,file_names)"
   ]
  },
  {
   "cell_type": "markdown",
   "metadata": {},
   "source": [
    "### 篇章中包含的实体个数统计"
   ]
  },
  {
   "cell_type": "code",
   "execution_count": 49,
   "metadata": {},
   "outputs": [
    {
     "name": "stdout",
     "output_type": "stream",
     "text": [
      "全部实体个数为：140028\n",
      "最大值：1248\n",
      "最小值：22\n",
      "平均值：385.75206611570246\n",
      "中位数:367.0\n"
     ]
    },
    {
     "data": {
      "text/plain": [
       "<matplotlib.axes._subplots.AxesSubplot at 0x16e0e1bf7b8>"
      ]
     },
     "execution_count": 49,
     "metadata": {},
     "output_type": "execute_result"
    },
    {
     "data": {
      "image/png": "[encoded data removed]",
      "text/plain": [
       "<Figure size 432x288 with 1 Axes>"
      ]
     },
     "metadata": {
      "needs_background": "light"
     },
     "output_type": "display_data"
    },
    {
     "name": "stdout",
     "output_type": "stream",
     "text": [
      "time: 211 ms\n"
     ]
    }
   ],
   "source": [
    "entities_counts = []\n",
    "for doc in dataset.docs:\n",
    "    entities_counts.append(len(doc.entities.get_all()))\n",
    "total_count = 0\n",
    "for c in entities_counts:\n",
    "    total_count += c\n",
    "print(\"全部实体个数为：{}\".format(total_count))\n",
    "print(\"最大值：{}\\n最小值：{}\\n平均值：{}\\n中位数:{}\".format(np.max(entities_counts),np.min(entities_counts),np.mean(entities_counts),np.median(entities_counts)))\n",
    "sns.distplot(entities_counts,kde=False)"
   ]
  }
 ],
 "metadata": {
  "kernelspec": {
   "display_name": "Python 3",
   "language": "python",
   "name": "python3"
  },
  "language_info": {
   "codemirror_mode": {
    "name": "ipython",
    "version": 3
   },
   "file_extension": ".py",
   "mimetype": "text/x-python",
   "name": "python",
   "nbconvert_exporter": "python",
   "pygments_lexer": "ipython3",
   "version": "3.6.9"
  }
 },
 "nbformat": 4,
 "nbformat_minor": 4
}
