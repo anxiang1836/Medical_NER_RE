{
 "cells": [
  {
   "cell_type": "markdown",
   "metadata": {},
   "source": [
    "# EDA数据分析"
   ]
  },
  {
   "cell_type": "code",
   "execution_count": 1,
   "metadata": {},
   "outputs": [],
   "source": [
    "# 输出每个cell的运行时间\n",
    "%load_ext autotime\n",
    "# https://github.com/cpcloud/ipython-autotime\n",
    "import sys\n",
    "import warnings\n",
    "import numpy as np\n",
    "import matplotlib.pyplot as plt\n",
    "import seaborn as sns\n",
    "warnings.filterwarnings(\"ignore\")\n",
    "\n",
    "sys.path.append('../')\n",
    "\n",
    "from utils import scan_files,load_file\n",
    "\n",
    "root_path = \"../data/round1/train/\""
   ]
  },
  {
   "cell_type": "markdown",
   "metadata": {},
   "source": [
    "## 篇章个数统计"
   ]
  },
  {
   "cell_type": "code",
   "execution_count": 2,
   "metadata": {},
   "outputs": [
    {
     "name": "stdout",
     "output_type": "stream",
     "text": [
      "共计有文章：363篇\n",
      "time: 8 ms\n"
     ]
    }
   ],
   "source": [
    "file_names = scan_files(root_path)\n",
    "print(\"共计有文章：{}篇\".format(len(file_names)))"
   ]
  },
  {
   "cell_type": "markdown",
   "metadata": {},
   "source": [
    "## 篇章长度统计"
   ]
  },
  {
   "cell_type": "code",
   "execution_count": 3,
   "metadata": {},
   "outputs": [
    {
     "name": "stdout",
     "output_type": "stream",
     "text": [
      "最大值：21504\n",
      "最小值：600\n",
      "平均值：8831.338842975207\n",
      "中位数:8344.0\n"
     ]
    },
    {
     "data": {
      "text/plain": [
       "<matplotlib.axes._subplots.AxesSubplot at 0x2cffbde0668>"
      ]
     },
     "execution_count": 3,
     "metadata": {},
     "output_type": "execute_result"
    },
    {
     "data": {
      "image/png": "[encoded data removed]",
      "text/plain": [
       "<Figure size 432x288 with 1 Axes>"
      ]
     },
     "metadata": {
      "needs_background": "light"
     },
     "output_type": "display_data"
    },
    {
     "name": "stdout",
     "output_type": "stream",
     "text": [
      "time: 290 ms\n"
     ]
    }
   ],
   "source": [
    "file_data = []\n",
    "for name in file_names:\n",
    "    file_data.append(load_file(root_path,name))\n",
    "file_data_len = [len(x) for x in file_data]\n",
    "print(\"最大值：{}\\n最小值：{}\\n平均值：{}\\n中位数:{}\".format(np.max(file_data_len),np.min(file_data_len),np.mean(file_data_len),np.median(file_data_len)))\n",
    "sns.distplot(file_data_len,kde=False)"
   ]
  },
  {
   "cell_type": "code",
   "execution_count": 4,
   "metadata": {},
   "outputs": [
    {
     "name": "stdout",
     "output_type": "stream",
     "text": [
      "time: 803 ms\n"
     ]
    }
   ],
   "source": [
    "from preprocess import DataSet\n",
    "dataset = DataSet(root_path,file_names)"
   ]
  },
  {
   "cell_type": "markdown",
   "metadata": {},
   "source": [
    "## 篇章中包含的实体个数统计"
   ]
  },
  {
   "cell_type": "code",
   "execution_count": 5,
   "metadata": {},
   "outputs": [
    {
     "name": "stdout",
     "output_type": "stream",
     "text": [
      "全部实体个数为：140028\n",
      "最大值：1248\n",
      "最小值：22\n",
      "平均值：385.75206611570246\n",
      "中位数:367.0\n"
     ]
    },
    {
     "data": {
      "text/plain": [
       "<matplotlib.axes._subplots.AxesSubplot at 0x2cf83794550>"
      ]
     },
     "execution_count": 5,
     "metadata": {},
     "output_type": "execute_result"
    },
    {
     "data": {
      "image/png": "[encoded data removed]",
      "text/plain": [
       "<Figure size 432x288 with 1 Axes>"
      ]
     },
     "metadata": {
      "needs_background": "light"
     },
     "output_type": "display_data"
    },
    {
     "name": "stdout",
     "output_type": "stream",
     "text": [
      "time: 205 ms\n"
     ]
    }
   ],
   "source": [
    "entities_counts = []\n",
    "for doc in dataset.docs:\n",
    "    entities_counts.append(len(doc.entities.get_all()))\n",
    "total_count = 0\n",
    "for c in entities_counts:\n",
    "    total_count += c\n",
    "print(\"全部实体个数为：{}\".format(total_count))\n",
    "print(\"最大值：{}\\n最小值：{}\\n平均值：{}\\n中位数:{}\".format(np.max(entities_counts),np.min(entities_counts),np.mean(entities_counts),np.median(entities_counts)))\n",
    "sns.distplot(entities_counts,kde=False)"
   ]
  },
  {
   "cell_type": "markdown",
   "metadata": {},
   "source": [
    "## 关系实例数量统计"
   ]
  },
  {
   "cell_type": "code",
   "execution_count": 6,
   "metadata": {},
   "outputs": [
    {
     "name": "stdout",
     "output_type": "stream",
     "text": [
      "time: 184 ms\n"
     ]
    }
   ],
   "source": [
    "root_path = \"../data/round2/\"\n",
    "file_names = scan_files(root_path)\n",
    "dataset = DataSet(root_path, file_names)"
   ]
  },
  {
   "cell_type": "code",
   "execution_count": 7,
   "metadata": {},
   "outputs": [
    {
     "name": "stdout",
     "output_type": "stream",
     "text": [
      "50篇文章中有12066个关系实例\n",
      "实例数量/篇 统计特征如下：\n",
      "最大值：797\n",
      "最小值：3\n",
      "平均值：248.44\n",
      "中位数:213.5\n",
      "实例数量分布如下：\n"
     ]
    },
    {
     "data": {
      "text/plain": [
       "<matplotlib.axes._subplots.AxesSubplot at 0x2cf8380ab70>"
      ]
     },
     "execution_count": 7,
     "metadata": {},
     "output_type": "execute_result"
    },
    {
     "data": {
      "image/png": "[encoded data removed]",
      "text/plain": [
       "<Figure size 432x288 with 1 Axes>"
      ]
     },
     "metadata": {
      "needs_background": "light"
     },
     "output_type": "display_data"
    },
    {
     "name": "stdout",
     "output_type": "stream",
     "text": [
      "time: 208 ms\n"
     ]
    }
   ],
   "source": [
    "distance_list = []\n",
    "pairs_count_list = []\n",
    "# doc = dataset.docs[0]\n",
    "for doc in dataset.docs:\n",
    "    pairs_list = doc.entity_pairs\n",
    "    pairs_count_list.append(len(pairs_list))\n",
    "    for pair in pairs_list:\n",
    "        e1 = pair.from_ent\n",
    "        e2 = pair.end_ent\n",
    "        if e1.end_pos < e2.start_pos:\n",
    "            distance_list.append(e2.start_pos - e1.end_pos + 1)\n",
    "        elif e1.start_pos > e2.end_pos:\n",
    "            distance_list.append(e1.start_pos - e2.end_pos + 1)\n",
    "print(\"{}篇文章中有{}个关系实例\".format(len(file_names),len(distance_list)))\n",
    "print(\"实例数量/篇 统计特征如下：\")\n",
    "print(\"最大值：{}\\n最小值：{}\\n平均值：{}\\n中位数:{}\".format(np.max(pairs_count_list),np.min(pairs_count_list),np.mean(pairs_count_list),np.median(pairs_count_list)))\n",
    "print(\"实例数量分布如下：\")\n",
    "sns.distplot(pairs_count_list,kde=False,bins=12)"
   ]
  },
  {
   "cell_type": "markdown",
   "metadata": {},
   "source": [
    "## 关系间的距离统计"
   ]
  },
  {
   "cell_type": "code",
   "execution_count": 8,
   "metadata": {},
   "outputs": [
    {
     "name": "stdout",
     "output_type": "stream",
     "text": [
      "最大值：12383\n",
      "最小值：2\n",
      "平均值：71.35728493286922\n",
      "中位数:27.0\n",
      "取96.7分位数的值为：165.0\n",
      "time: 9 ms\n"
     ]
    }
   ],
   "source": [
    "print(\"最大值：{}\\n最小值：{}\\n平均值：{}\\n中位数:{}\".format(np.max(distance_list),np.min(distance_list),np.mean(distance_list),np.median(distance_list)))\n",
    "k = 96.7\n",
    "print(\"取{}分位数的值为：{}\".format(k,np.percentile(distance_list,k)))"
   ]
  },
  {
   "cell_type": "code",
   "execution_count": 9,
   "metadata": {},
   "outputs": [
    {
     "name": "stdout",
     "output_type": "stream",
     "text": [
      "关系间的距离-数量分布如下：\n"
     ]
    },
    {
     "data": {
      "text/plain": [
       "<matplotlib.axes._subplots.AxesSubplot at 0x2cffee56400>"
      ]
     },
     "execution_count": 9,
     "metadata": {},
     "output_type": "execute_result"
    },
    {
     "data": {
      "image/png": "[encoded data removed]",
      "text/plain": [
       "<Figure size 432x288 with 1 Axes>"
      ]
     },
     "metadata": {
      "needs_background": "light"
     },
     "output_type": "display_data"
    },
    {
     "name": "stdout",
     "output_type": "stream",
     "text": [
      "time: 231 ms\n"
     ]
    }
   ],
   "source": [
    "distance_list_cut = [value for value in distance_list if value < 165]\n",
    "print(\"关系间的距离-数量分布如下：\")\n",
    "sns.distplot(distance_list_cut,kde=False)"
   ]
  }
 ],
 "metadata": {
  "kernelspec": {
   "display_name": "Python 3",
   "language": "python",
   "name": "python3"
  },
  "language_info": {
   "codemirror_mode": {
    "name": "ipython",
    "version": 3
   },
   "file_extension": ".py",
   "mimetype": "text/x-python",
   "name": "python",
   "nbconvert_exporter": "python",
   "pygments_lexer": "ipython3",
   "version": "3.6.9"
  },
  "toc-autonumbering": true
 },
 "nbformat": 4,
 "nbformat_minor": 4
}
